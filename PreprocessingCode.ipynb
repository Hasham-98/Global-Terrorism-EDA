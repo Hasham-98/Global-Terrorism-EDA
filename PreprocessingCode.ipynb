{
 "cells": [
  {
   "cell_type": "code",
   "execution_count": 8,
   "metadata": {},
   "outputs": [],
   "source": [
    "import numpy as np\n",
    "import pandas as pd\n",
    "import matplotlib.pyplot as plt\n",
    "import seaborn as sns\n",
    "import plotly.express as px\n",
    "from dataprep.eda import *\n",
    "from dataprep.eda.missing import plot_missing\n",
    "from dataprep.eda import plot_correlation"
   ]
  },
  {
   "cell_type": "code",
   "execution_count": 3,
   "metadata": {},
   "outputs": [],
   "source": [
    "try:\n",
    "    data = pd.read_csv(\"D:\\codes/ITI/libariies/final project/globalterrorismdb_0718dist.csv\", encoding='latin1', low_memory=False)\n",
    "except UnicodeDecodeError as e:\n",
    "    print(f\"Encoding error: {e}\")"
   ]
  },
  {
   "cell_type": "code",
   "execution_count": 4,
   "metadata": {},
   "outputs": [
    {
     "data": {
      "text/html": [
       "<div>\n",
       "<style scoped>\n",
       "    .dataframe tbody tr th:only-of-type {\n",
       "        vertical-align: middle;\n",
       "    }\n",
       "\n",
       "    .dataframe tbody tr th {\n",
       "        vertical-align: top;\n",
       "    }\n",
       "\n",
       "    .dataframe thead th {\n",
       "        text-align: right;\n",
       "    }\n",
       "</style>\n",
       "<table border=\"1\" class=\"dataframe\">\n",
       "  <thead>\n",
       "    <tr style=\"text-align: right;\">\n",
       "      <th></th>\n",
       "      <th>eventid</th>\n",
       "      <th>iyear</th>\n",
       "      <th>imonth</th>\n",
       "      <th>iday</th>\n",
       "      <th>approxdate</th>\n",
       "      <th>extended</th>\n",
       "      <th>resolution</th>\n",
       "      <th>country</th>\n",
       "      <th>country_txt</th>\n",
       "      <th>region</th>\n",
       "      <th>...</th>\n",
       "      <th>addnotes</th>\n",
       "      <th>scite1</th>\n",
       "      <th>scite2</th>\n",
       "      <th>scite3</th>\n",
       "      <th>dbsource</th>\n",
       "      <th>INT_LOG</th>\n",
       "      <th>INT_IDEO</th>\n",
       "      <th>INT_MISC</th>\n",
       "      <th>INT_ANY</th>\n",
       "      <th>related</th>\n",
       "    </tr>\n",
       "  </thead>\n",
       "  <tbody>\n",
       "    <tr>\n",
       "      <th>0</th>\n",
       "      <td>197000000001</td>\n",
       "      <td>1970</td>\n",
       "      <td>7</td>\n",
       "      <td>2</td>\n",
       "      <td>NaN</td>\n",
       "      <td>0</td>\n",
       "      <td>NaN</td>\n",
       "      <td>58</td>\n",
       "      <td>Dominican Republic</td>\n",
       "      <td>2</td>\n",
       "      <td>...</td>\n",
       "      <td>NaN</td>\n",
       "      <td>NaN</td>\n",
       "      <td>NaN</td>\n",
       "      <td>NaN</td>\n",
       "      <td>PGIS</td>\n",
       "      <td>0</td>\n",
       "      <td>0</td>\n",
       "      <td>0</td>\n",
       "      <td>0</td>\n",
       "      <td>NaN</td>\n",
       "    </tr>\n",
       "    <tr>\n",
       "      <th>1</th>\n",
       "      <td>197000000002</td>\n",
       "      <td>1970</td>\n",
       "      <td>0</td>\n",
       "      <td>0</td>\n",
       "      <td>NaN</td>\n",
       "      <td>0</td>\n",
       "      <td>NaN</td>\n",
       "      <td>130</td>\n",
       "      <td>Mexico</td>\n",
       "      <td>1</td>\n",
       "      <td>...</td>\n",
       "      <td>NaN</td>\n",
       "      <td>NaN</td>\n",
       "      <td>NaN</td>\n",
       "      <td>NaN</td>\n",
       "      <td>PGIS</td>\n",
       "      <td>0</td>\n",
       "      <td>1</td>\n",
       "      <td>1</td>\n",
       "      <td>1</td>\n",
       "      <td>NaN</td>\n",
       "    </tr>\n",
       "    <tr>\n",
       "      <th>2</th>\n",
       "      <td>197001000001</td>\n",
       "      <td>1970</td>\n",
       "      <td>1</td>\n",
       "      <td>0</td>\n",
       "      <td>NaN</td>\n",
       "      <td>0</td>\n",
       "      <td>NaN</td>\n",
       "      <td>160</td>\n",
       "      <td>Philippines</td>\n",
       "      <td>5</td>\n",
       "      <td>...</td>\n",
       "      <td>NaN</td>\n",
       "      <td>NaN</td>\n",
       "      <td>NaN</td>\n",
       "      <td>NaN</td>\n",
       "      <td>PGIS</td>\n",
       "      <td>-9</td>\n",
       "      <td>-9</td>\n",
       "      <td>1</td>\n",
       "      <td>1</td>\n",
       "      <td>NaN</td>\n",
       "    </tr>\n",
       "    <tr>\n",
       "      <th>3</th>\n",
       "      <td>197001000002</td>\n",
       "      <td>1970</td>\n",
       "      <td>1</td>\n",
       "      <td>0</td>\n",
       "      <td>NaN</td>\n",
       "      <td>0</td>\n",
       "      <td>NaN</td>\n",
       "      <td>78</td>\n",
       "      <td>Greece</td>\n",
       "      <td>8</td>\n",
       "      <td>...</td>\n",
       "      <td>NaN</td>\n",
       "      <td>NaN</td>\n",
       "      <td>NaN</td>\n",
       "      <td>NaN</td>\n",
       "      <td>PGIS</td>\n",
       "      <td>-9</td>\n",
       "      <td>-9</td>\n",
       "      <td>1</td>\n",
       "      <td>1</td>\n",
       "      <td>NaN</td>\n",
       "    </tr>\n",
       "    <tr>\n",
       "      <th>4</th>\n",
       "      <td>197001000003</td>\n",
       "      <td>1970</td>\n",
       "      <td>1</td>\n",
       "      <td>0</td>\n",
       "      <td>NaN</td>\n",
       "      <td>0</td>\n",
       "      <td>NaN</td>\n",
       "      <td>101</td>\n",
       "      <td>Japan</td>\n",
       "      <td>4</td>\n",
       "      <td>...</td>\n",
       "      <td>NaN</td>\n",
       "      <td>NaN</td>\n",
       "      <td>NaN</td>\n",
       "      <td>NaN</td>\n",
       "      <td>PGIS</td>\n",
       "      <td>-9</td>\n",
       "      <td>-9</td>\n",
       "      <td>1</td>\n",
       "      <td>1</td>\n",
       "      <td>NaN</td>\n",
       "    </tr>\n",
       "  </tbody>\n",
       "</table>\n",
       "<p>5 rows × 135 columns</p>\n",
       "</div>"
      ],
      "text/plain": [
       "        eventid  iyear  imonth  iday approxdate  extended resolution  country  \\\n",
       "0  197000000001   1970       7     2        NaN         0        NaN       58   \n",
       "1  197000000002   1970       0     0        NaN         0        NaN      130   \n",
       "2  197001000001   1970       1     0        NaN         0        NaN      160   \n",
       "3  197001000002   1970       1     0        NaN         0        NaN       78   \n",
       "4  197001000003   1970       1     0        NaN         0        NaN      101   \n",
       "\n",
       "          country_txt  region  ... addnotes scite1 scite2  scite3  dbsource  \\\n",
       "0  Dominican Republic       2  ...      NaN    NaN    NaN     NaN      PGIS   \n",
       "1              Mexico       1  ...      NaN    NaN    NaN     NaN      PGIS   \n",
       "2         Philippines       5  ...      NaN    NaN    NaN     NaN      PGIS   \n",
       "3              Greece       8  ...      NaN    NaN    NaN     NaN      PGIS   \n",
       "4               Japan       4  ...      NaN    NaN    NaN     NaN      PGIS   \n",
       "\n",
       "   INT_LOG  INT_IDEO INT_MISC INT_ANY  related  \n",
       "0        0         0        0       0      NaN  \n",
       "1        0         1        1       1      NaN  \n",
       "2       -9        -9        1       1      NaN  \n",
       "3       -9        -9        1       1      NaN  \n",
       "4       -9        -9        1       1      NaN  \n",
       "\n",
       "[5 rows x 135 columns]"
      ]
     },
     "execution_count": 4,
     "metadata": {},
     "output_type": "execute_result"
    }
   ],
   "source": [
    "data.head()"
   ]
  },
  {
   "cell_type": "code",
   "execution_count": 5,
   "metadata": {},
   "outputs": [
    {
     "name": "stdout",
     "output_type": "stream",
     "text": [
      "no of rows : 181691\n",
      "no of columns : 135\n"
     ]
    }
   ],
   "source": [
    "rows, columns = data.shape\n",
    "print(f\"no of rows : {rows}\")\n",
    "print(f\"no of columns : {columns}\")"
   ]
  },
  {
   "cell_type": "code",
   "execution_count": 6,
   "metadata": {},
   "outputs": [
    {
     "name": "stdout",
     "output_type": "stream",
     "text": [
      "['eventid', 'iyear', 'imonth', 'iday', 'approxdate', 'extended', 'resolution', 'country', 'country_txt', 'region', 'region_txt', 'provstate', 'city', 'latitude', 'longitude', 'specificity', 'vicinity', 'location', 'summary', 'crit1', 'crit2', 'crit3', 'doubtterr', 'alternative', 'alternative_txt', 'multiple', 'success', 'suicide', 'attacktype1', 'attacktype1_txt', 'attacktype2', 'attacktype2_txt', 'attacktype3', 'attacktype3_txt', 'targtype1', 'targtype1_txt', 'targsubtype1', 'targsubtype1_txt', 'corp1', 'target1', 'natlty1', 'natlty1_txt', 'targtype2', 'targtype2_txt', 'targsubtype2', 'targsubtype2_txt', 'corp2', 'target2', 'natlty2', 'natlty2_txt', 'targtype3', 'targtype3_txt', 'targsubtype3', 'targsubtype3_txt', 'corp3', 'target3', 'natlty3', 'natlty3_txt', 'gname', 'gsubname', 'gname2', 'gsubname2', 'gname3', 'gsubname3', 'motive', 'guncertain1', 'guncertain2', 'guncertain3', 'individual', 'nperps', 'nperpcap', 'claimed', 'claimmode', 'claimmode_txt', 'claim2', 'claimmode2', 'claimmode2_txt', 'claim3', 'claimmode3', 'claimmode3_txt', 'compclaim', 'weaptype1', 'weaptype1_txt', 'weapsubtype1', 'weapsubtype1_txt', 'weaptype2', 'weaptype2_txt', 'weapsubtype2', 'weapsubtype2_txt', 'weaptype3', 'weaptype3_txt', 'weapsubtype3', 'weapsubtype3_txt', 'weaptype4', 'weaptype4_txt', 'weapsubtype4', 'weapsubtype4_txt', 'weapdetail', 'nkill', 'nkillus', 'nkillter', 'nwound', 'nwoundus', 'nwoundte', 'property', 'propextent', 'propextent_txt', 'propvalue', 'propcomment', 'ishostkid', 'nhostkid', 'nhostkidus', 'nhours', 'ndays', 'divert', 'kidhijcountry', 'ransom', 'ransomamt', 'ransomamtus', 'ransompaid', 'ransompaidus', 'ransomnote', 'hostkidoutcome', 'hostkidoutcome_txt', 'nreleased', 'addnotes', 'scite1', 'scite2', 'scite3', 'dbsource', 'INT_LOG', 'INT_IDEO', 'INT_MISC', 'INT_ANY', 'related']\n"
     ]
    }
   ],
   "source": [
    "print(data.columns.tolist())"
   ]
  },
  {
   "cell_type": "markdown",
   "metadata": {},
   "source": [
    "\n",
    "\n",
    "### A brief overview of some important columns for EDA\n",
    "\n",
    "    eventid\n",
    "    iyear : Year of the incident.\n",
    "    imonth: Month of the incident.\n",
    "    iday  : Day of the incident.\n",
    "    country_txt : Name of the country where the incident occurred.\n",
    "    region_txt : Name of the region where the incident occurred.\n",
    "    provstate : Province or state within the country.\n",
    "    city : City or location where the incident occurred.\n",
    "    attacktype1_txt : Type of attack (e.g., bombing, assassination).\n",
    "    targtype1_txt :  Type of target (e.g., government, civilians).\n",
    "    gname : Name of the perpetrator group.\n",
    "    nkill : Number of reported kills.\n",
    "    nwound : Number of reported wounded.\n",
    "    summary : Brief summary of the incident.\n",
    "    motive : Motivation behind the incident.\n",
    "    weaptype1_txt : Type of weapon used.\n",
    "    target1\n",
    "    Success Success of a terrorist strike\n",
    "\n"
   ]
  },
  {
   "cell_type": "code",
   "execution_count": 7,
   "metadata": {},
   "outputs": [],
   "source": [
    "final_data = data[['eventid', 'iyear', 'imonth', 'iday', 'country_txt','region_txt', 'provstate','city', 'attacktype1_txt',\n",
    "                   'nkill', 'nwound','target1', 'summary','gname','targtype1_txt', 'weaptype1_txt','motive','success']]"
   ]
  },
  {
   "cell_type": "code",
   "execution_count": 8,
   "metadata": {},
   "outputs": [],
   "source": [
    "data = pd.DataFrame(final_data)"
   ]
  },
  {
   "cell_type": "code",
   "execution_count": 9,
   "metadata": {},
   "outputs": [
    {
     "name": "stdout",
     "output_type": "stream",
     "text": [
      "no of rows : 181691\n",
      "no of columns : 18\n"
     ]
    }
   ],
   "source": [
    "rows, columns = data.shape\n",
    "print(f\"no of rows : {rows}\")\n",
    "print(f\"no of columns : {columns}\")"
   ]
  },
  {
   "cell_type": "markdown",
   "metadata": {},
   "source": [
    "### Data cleaning and missing values investigation"
   ]
  },
  {
   "cell_type": "code",
   "execution_count": 10,
   "metadata": {},
   "outputs": [
    {
     "data": {
      "text/plain": [
       "eventid                 0\n",
       "iyear                   0\n",
       "imonth                  0\n",
       "iday                    0\n",
       "country_txt             0\n",
       "region_txt              0\n",
       "provstate             421\n",
       "city                  435\n",
       "attacktype1_txt         0\n",
       "nkill               10313\n",
       "nwound              16311\n",
       "target1               638\n",
       "summary             66129\n",
       "gname                   0\n",
       "targtype1_txt           0\n",
       "weaptype1_txt           0\n",
       "motive             131130\n",
       "success                 0\n",
       "dtype: int64"
      ]
     },
     "execution_count": 10,
     "metadata": {},
     "output_type": "execute_result"
    }
   ],
   "source": [
    "data.isnull().sum()"
   ]
  },
  {
   "cell_type": "code",
   "execution_count": 11,
   "metadata": {},
   "outputs": [
    {
     "data": {
      "text/html": [
       "<div>\n",
       "<style scoped>\n",
       "    .dataframe tbody tr th:only-of-type {\n",
       "        vertical-align: middle;\n",
       "    }\n",
       "\n",
       "    .dataframe tbody tr th {\n",
       "        vertical-align: top;\n",
       "    }\n",
       "\n",
       "    .dataframe thead th {\n",
       "        text-align: right;\n",
       "    }\n",
       "</style>\n",
       "<table border=\"1\" class=\"dataframe\">\n",
       "  <thead>\n",
       "    <tr style=\"text-align: right;\">\n",
       "      <th></th>\n",
       "      <th>eventid</th>\n",
       "      <th>iyear</th>\n",
       "      <th>imonth</th>\n",
       "      <th>iday</th>\n",
       "      <th>country_txt</th>\n",
       "      <th>region_txt</th>\n",
       "      <th>provstate</th>\n",
       "      <th>city</th>\n",
       "      <th>attacktype1_txt</th>\n",
       "      <th>nkill</th>\n",
       "      <th>nwound</th>\n",
       "      <th>target1</th>\n",
       "      <th>summary</th>\n",
       "      <th>gname</th>\n",
       "      <th>targtype1_txt</th>\n",
       "      <th>weaptype1_txt</th>\n",
       "      <th>motive</th>\n",
       "      <th>success</th>\n",
       "    </tr>\n",
       "  </thead>\n",
       "  <tbody>\n",
       "    <tr>\n",
       "      <th>0</th>\n",
       "      <td>197000000001</td>\n",
       "      <td>1970</td>\n",
       "      <td>7</td>\n",
       "      <td>2</td>\n",
       "      <td>Dominican Republic</td>\n",
       "      <td>Central America &amp; Caribbean</td>\n",
       "      <td>NaN</td>\n",
       "      <td>Santo Domingo</td>\n",
       "      <td>Assassination</td>\n",
       "      <td>1.0</td>\n",
       "      <td>0.0</td>\n",
       "      <td>Julio Guzman</td>\n",
       "      <td>NaN</td>\n",
       "      <td>MANO-D</td>\n",
       "      <td>Private Citizens &amp; Property</td>\n",
       "      <td>Unknown</td>\n",
       "      <td>NaN</td>\n",
       "      <td>1</td>\n",
       "    </tr>\n",
       "    <tr>\n",
       "      <th>162</th>\n",
       "      <td>197003310002</td>\n",
       "      <td>1970</td>\n",
       "      <td>3</td>\n",
       "      <td>31</td>\n",
       "      <td>Japan</td>\n",
       "      <td>East Asia</td>\n",
       "      <td>NaN</td>\n",
       "      <td>Fukouka</td>\n",
       "      <td>Hijacking</td>\n",
       "      <td>0.0</td>\n",
       "      <td>0.0</td>\n",
       "      <td>Boeing 727</td>\n",
       "      <td>NaN</td>\n",
       "      <td>Japanese Red Army (JRA)</td>\n",
       "      <td>Airports &amp; Aircraft</td>\n",
       "      <td>Explosives</td>\n",
       "      <td>NaN</td>\n",
       "      <td>1</td>\n",
       "    </tr>\n",
       "    <tr>\n",
       "      <th>1229</th>\n",
       "      <td>197204040002</td>\n",
       "      <td>1972</td>\n",
       "      <td>4</td>\n",
       "      <td>4</td>\n",
       "      <td>Canada</td>\n",
       "      <td>North America</td>\n",
       "      <td>NaN</td>\n",
       "      <td>Montreal</td>\n",
       "      <td>Bombing/Explosion</td>\n",
       "      <td>1.0</td>\n",
       "      <td>7.0</td>\n",
       "      <td>Cuban Trade Office</td>\n",
       "      <td>NaN</td>\n",
       "      <td>Young Cuba</td>\n",
       "      <td>Government (General)</td>\n",
       "      <td>Explosives</td>\n",
       "      <td>NaN</td>\n",
       "      <td>1</td>\n",
       "    </tr>\n",
       "    <tr>\n",
       "      <th>1568</th>\n",
       "      <td>197209280011</td>\n",
       "      <td>1972</td>\n",
       "      <td>9</td>\n",
       "      <td>28</td>\n",
       "      <td>United States</td>\n",
       "      <td>North America</td>\n",
       "      <td>NaN</td>\n",
       "      <td>Washington</td>\n",
       "      <td>Assassination</td>\n",
       "      <td>0.0</td>\n",
       "      <td>0.0</td>\n",
       "      <td>Embassy</td>\n",
       "      <td>09/28/1972: A letter bomb addressed to the Isr...</td>\n",
       "      <td>Black September</td>\n",
       "      <td>Government (Diplomatic)</td>\n",
       "      <td>Explosives</td>\n",
       "      <td>NaN</td>\n",
       "      <td>0</td>\n",
       "    </tr>\n",
       "    <tr>\n",
       "      <th>1617</th>\n",
       "      <td>197211080002</td>\n",
       "      <td>1972</td>\n",
       "      <td>11</td>\n",
       "      <td>8</td>\n",
       "      <td>Mexico</td>\n",
       "      <td>North America</td>\n",
       "      <td>NaN</td>\n",
       "      <td>Monterrey</td>\n",
       "      <td>Hijacking</td>\n",
       "      <td>0.0</td>\n",
       "      <td>0.0</td>\n",
       "      <td>B-727</td>\n",
       "      <td>NaN</td>\n",
       "      <td>Unknown</td>\n",
       "      <td>Airports &amp; Aircraft</td>\n",
       "      <td>Firearms</td>\n",
       "      <td>NaN</td>\n",
       "      <td>1</td>\n",
       "    </tr>\n",
       "  </tbody>\n",
       "</table>\n",
       "</div>"
      ],
      "text/plain": [
       "           eventid  iyear  imonth  iday         country_txt  \\\n",
       "0     197000000001   1970       7     2  Dominican Republic   \n",
       "162   197003310002   1970       3    31               Japan   \n",
       "1229  197204040002   1972       4     4              Canada   \n",
       "1568  197209280011   1972       9    28       United States   \n",
       "1617  197211080002   1972      11     8              Mexico   \n",
       "\n",
       "                       region_txt provstate           city    attacktype1_txt  \\\n",
       "0     Central America & Caribbean       NaN  Santo Domingo      Assassination   \n",
       "162                     East Asia       NaN        Fukouka          Hijacking   \n",
       "1229                North America       NaN       Montreal  Bombing/Explosion   \n",
       "1568                North America       NaN     Washington      Assassination   \n",
       "1617                North America       NaN      Monterrey          Hijacking   \n",
       "\n",
       "      nkill  nwound             target1  \\\n",
       "0       1.0     0.0        Julio Guzman   \n",
       "162     0.0     0.0          Boeing 727   \n",
       "1229    1.0     7.0  Cuban Trade Office   \n",
       "1568    0.0     0.0             Embassy   \n",
       "1617    0.0     0.0               B-727   \n",
       "\n",
       "                                                summary  \\\n",
       "0                                                   NaN   \n",
       "162                                                 NaN   \n",
       "1229                                                NaN   \n",
       "1568  09/28/1972: A letter bomb addressed to the Isr...   \n",
       "1617                                                NaN   \n",
       "\n",
       "                        gname                targtype1_txt weaptype1_txt  \\\n",
       "0                      MANO-D  Private Citizens & Property       Unknown   \n",
       "162   Japanese Red Army (JRA)          Airports & Aircraft    Explosives   \n",
       "1229               Young Cuba         Government (General)    Explosives   \n",
       "1568          Black September      Government (Diplomatic)    Explosives   \n",
       "1617                  Unknown          Airports & Aircraft      Firearms   \n",
       "\n",
       "     motive  success  \n",
       "0       NaN        1  \n",
       "162     NaN        1  \n",
       "1229    NaN        1  \n",
       "1568    NaN        0  \n",
       "1617    NaN        1  "
      ]
     },
     "execution_count": 11,
     "metadata": {},
     "output_type": "execute_result"
    }
   ],
   "source": [
    "data[data['provstate'].isna()].head()"
   ]
  },
  {
   "cell_type": "code",
   "execution_count": 12,
   "metadata": {},
   "outputs": [],
   "source": [
    "data = data[data['provstate'].notna()]\n",
    "data = data.reset_index(drop=True)"
   ]
  },
  {
   "cell_type": "code",
   "execution_count": 13,
   "metadata": {},
   "outputs": [],
   "source": [
    "data = data[data['city'].notna()]\n",
    "data = data.reset_index(drop=True)"
   ]
  },
  {
   "cell_type": "code",
   "execution_count": 14,
   "metadata": {},
   "outputs": [],
   "source": [
    "data = data[data['target1'].notna()]\n",
    "data = data.reset_index(drop=True)"
   ]
  },
  {
   "cell_type": "code",
   "execution_count": 15,
   "metadata": {},
   "outputs": [
    {
     "data": {
      "text/plain": [
       "array([0.000e+00, 1.000e+00,       nan, 7.000e+00, 4.700e+01, 2.000e+00,\n",
       "       3.600e+01, 5.000e+00, 3.000e+00, 4.000e+00, 2.500e+01, 1.500e+01,\n",
       "       2.600e+01, 8.000e+00, 8.100e+01, 6.000e+00, 9.000e+00, 1.600e+01,\n",
       "       3.000e+01, 3.100e+01, 1.200e+01, 2.100e+01, 1.400e+01, 8.800e+01,\n",
       "       1.100e+01, 1.000e+01, 2.700e+01, 1.800e+01, 2.200e+01, 1.900e+01,\n",
       "       9.200e+01, 1.300e+01, 7.300e+01, 4.200e+01, 4.300e+01, 1.700e+01,\n",
       "       9.800e+01, 4.220e+02, 4.800e+01, 3.400e+01, 5.400e+01, 1.000e+02,\n",
       "       5.000e+01, 3.500e+01, 2.000e+01, 4.100e+01, 3.700e+01, 2.800e+01,\n",
       "       4.000e+01, 3.200e+01, 8.500e+01, 2.300e+01, 3.000e+02, 6.000e+01,\n",
       "       2.400e+01, 5.800e+01, 8.700e+01, 4.500e+01, 3.800e+01, 2.900e+01,\n",
       "       7.400e+01, 8.300e+01, 9.000e+01, 7.000e+01, 6.600e+01, 8.000e+01,\n",
       "       6.700e+01, 5.100e+01, 3.900e+01, 1.240e+02, 7.600e+01, 3.300e+01,\n",
       "       7.500e+01, 6.200e+01, 4.600e+01, 5.600e+01, 6.300e+01, 1.200e+02,\n",
       "       1.020e+02, 7.800e+01, 7.900e+01, 5.200e+01, 7.700e+01, 2.000e+02,\n",
       "       4.900e+01, 1.110e+02, 1.650e+02, 4.400e+01, 2.410e+02, 6.400e+01,\n",
       "       1.080e+02, 6.500e+01, 1.320e+02, 2.700e+02, 2.280e+02, 1.100e+02,\n",
       "       1.360e+02, 1.800e+02, 2.500e+02, 9.300e+01, 1.300e+02, 5.900e+01,\n",
       "       9.400e+01, 5.300e+01, 1.460e+02, 3.290e+02, 9.700e+01, 7.100e+01,\n",
       "       2.400e+02, 2.270e+02, 1.260e+02, 1.060e+02, 3.880e+02, 6.800e+01,\n",
       "       8.400e+01, 8.200e+01, 1.710e+02, 1.070e+02, 5.500e+01, 1.120e+02,\n",
       "       1.140e+02, 7.200e+01, 9.600e+01, 1.400e+02, 6.100e+01, 1.050e+02,\n",
       "       1.500e+02, 1.150e+02, 8.900e+01, 5.700e+01, 1.180e+03, 1.700e+02,\n",
       "       1.680e+02, 1.210e+02, 3.750e+02, 9.100e+01, 3.040e+02, 1.230e+02,\n",
       "       1.350e+02, 2.560e+02, 1.090e+02, 2.710e+02, 2.060e+02, 1.040e+02,\n",
       "       3.200e+02, 2.750e+02, 2.240e+02, 1.180e+02, 1.290e+02, 9.500e+01,\n",
       "       2.590e+02, 1.384e+03, 1.383e+03, 1.900e+02, 1.190e+02, 1.010e+02,\n",
       "       1.160e+02, 5.180e+02, 3.440e+02, 1.600e+02, 1.880e+02, 1.030e+02,\n",
       "       2.050e+02, 1.450e+02, 1.530e+02, 1.270e+02, 6.900e+01, 1.410e+02,\n",
       "       1.340e+02, 4.000e+02, 8.600e+01, 1.840e+02, 2.100e+02, 1.420e+02,\n",
       "       2.120e+02, 2.870e+02, 3.150e+02, 1.510e+02, 6.700e+02, 1.570e+03,\n",
       "       3.100e+02, 2.980e+02, 9.530e+02, 5.170e+02, 2.010e+02, 1.220e+02,\n",
       "       1.580e+02, 1.170e+02, 1.440e+02, 2.080e+02, 1.520e+02, 2.300e+02,\n",
       "       2.800e+02, 1.740e+02, 1.430e+02, 3.830e+02, 2.830e+02, 1.540e+02,\n",
       "       2.840e+02, 4.330e+02, 2.660e+02, 1.330e+02, 1.630e+02, 1.280e+02,\n",
       "       5.880e+02, 3.110e+02])"
      ]
     },
     "execution_count": 15,
     "metadata": {},
     "output_type": "execute_result"
    }
   ],
   "source": [
    "data[\"nkill\"].unique()"
   ]
  },
  {
   "cell_type": "code",
   "execution_count": 18,
   "metadata": {},
   "outputs": [],
   "source": [
    "data[\"nkill\"].fillna(data[\"nkill\"].mean(),inplace=True)"
   ]
  },
  {
   "cell_type": "code",
   "execution_count": 19,
   "metadata": {},
   "outputs": [],
   "source": [
    "data[\"nwound\"].fillna(data[\"nwound\"].mean(),inplace=True)"
   ]
  },
  {
   "cell_type": "code",
   "execution_count": 20,
   "metadata": {},
   "outputs": [
    {
     "data": {
      "text/plain": [
       "'Unknown'"
      ]
     },
     "execution_count": 20,
     "metadata": {},
     "output_type": "execute_result"
    }
   ],
   "source": [
    "data[\"motive\"].mode()[0]"
   ]
  },
  {
   "cell_type": "code",
   "execution_count": 21,
   "metadata": {},
   "outputs": [],
   "source": [
    "data[\"motive\"].fillna(data[\"motive\"].mode()[0],inplace=True)"
   ]
  },
  {
   "cell_type": "code",
   "execution_count": 22,
   "metadata": {},
   "outputs": [],
   "source": [
    "data[\"summary\"].fillna(data[\"summary\"].mode()[0],inplace=True)"
   ]
  },
  {
   "cell_type": "code",
   "execution_count": 23,
   "metadata": {},
   "outputs": [
    {
     "data": {
      "text/plain": [
       "eventid            0\n",
       "iyear              0\n",
       "imonth             0\n",
       "iday               0\n",
       "country_txt        0\n",
       "region_txt         0\n",
       "provstate          0\n",
       "city               0\n",
       "attacktype1_txt    0\n",
       "nkill              0\n",
       "nwound             0\n",
       "target1            0\n",
       "summary            0\n",
       "gname              0\n",
       "targtype1_txt      0\n",
       "weaptype1_txt      0\n",
       "motive             0\n",
       "success            0\n",
       "dtype: int64"
      ]
     },
     "execution_count": 23,
     "metadata": {},
     "output_type": "execute_result"
    }
   ],
   "source": [
    "data.isnull().sum()"
   ]
  },
  {
   "cell_type": "markdown",
   "metadata": {},
   "source": [
    "### Check the columns datatypes"
   ]
  },
  {
   "cell_type": "code",
   "execution_count": 24,
   "metadata": {},
   "outputs": [
    {
     "name": "stdout",
     "output_type": "stream",
     "text": [
      "<class 'pandas.core.frame.DataFrame'>\n",
      "RangeIndex: 180204 entries, 0 to 180203\n",
      "Data columns (total 18 columns):\n",
      " #   Column           Non-Null Count   Dtype  \n",
      "---  ------           --------------   -----  \n",
      " 0   eventid          180204 non-null  int64  \n",
      " 1   iyear            180204 non-null  int64  \n",
      " 2   imonth           180204 non-null  int64  \n",
      " 3   iday             180204 non-null  int64  \n",
      " 4   country_txt      180204 non-null  object \n",
      " 5   region_txt       180204 non-null  object \n",
      " 6   provstate        180204 non-null  object \n",
      " 7   city             180204 non-null  object \n",
      " 8   attacktype1_txt  180204 non-null  object \n",
      " 9   nkill            180204 non-null  float64\n",
      " 10  nwound           180204 non-null  float64\n",
      " 11  target1          180204 non-null  object \n",
      " 12  summary          180204 non-null  object \n",
      " 13  gname            180204 non-null  object \n",
      " 14  targtype1_txt    180204 non-null  object \n",
      " 15  weaptype1_txt    180204 non-null  object \n",
      " 16  motive           180204 non-null  object \n",
      " 17  success          180204 non-null  int64  \n",
      "dtypes: float64(2), int64(5), object(11)\n",
      "memory usage: 24.7+ MB\n"
     ]
    }
   ],
   "source": [
    "data.info()"
   ]
  },
  {
   "cell_type": "code",
   "execution_count": 25,
   "metadata": {},
   "outputs": [],
   "source": [
    "# convert float (nkill & nwound) to int\n",
    "data['nkill'] = data['nkill'].astype(int)\n",
    "data['nwound'] = data['nwound'].astype(int)"
   ]
  },
  {
   "cell_type": "markdown",
   "metadata": {},
   "source": [
    "#### Check the data duplication\n",
    "\n",
    "    - We observe that there are no duplicate values"
   ]
  },
  {
   "cell_type": "code",
   "execution_count": 26,
   "metadata": {},
   "outputs": [
    {
     "data": {
      "text/html": [
       "<div>\n",
       "<style scoped>\n",
       "    .dataframe tbody tr th:only-of-type {\n",
       "        vertical-align: middle;\n",
       "    }\n",
       "\n",
       "    .dataframe tbody tr th {\n",
       "        vertical-align: top;\n",
       "    }\n",
       "\n",
       "    .dataframe thead th {\n",
       "        text-align: right;\n",
       "    }\n",
       "</style>\n",
       "<table border=\"1\" class=\"dataframe\">\n",
       "  <thead>\n",
       "    <tr style=\"text-align: right;\">\n",
       "      <th></th>\n",
       "      <th>eventid</th>\n",
       "      <th>iyear</th>\n",
       "      <th>imonth</th>\n",
       "      <th>iday</th>\n",
       "      <th>country_txt</th>\n",
       "      <th>region_txt</th>\n",
       "      <th>provstate</th>\n",
       "      <th>city</th>\n",
       "      <th>attacktype1_txt</th>\n",
       "      <th>nkill</th>\n",
       "      <th>nwound</th>\n",
       "      <th>target1</th>\n",
       "      <th>summary</th>\n",
       "      <th>gname</th>\n",
       "      <th>targtype1_txt</th>\n",
       "      <th>weaptype1_txt</th>\n",
       "      <th>motive</th>\n",
       "      <th>success</th>\n",
       "    </tr>\n",
       "  </thead>\n",
       "  <tbody>\n",
       "  </tbody>\n",
       "</table>\n",
       "</div>"
      ],
      "text/plain": [
       "Empty DataFrame\n",
       "Columns: [eventid, iyear, imonth, iday, country_txt, region_txt, provstate, city, attacktype1_txt, nkill, nwound, target1, summary, gname, targtype1_txt, weaptype1_txt, motive, success]\n",
       "Index: []"
      ]
     },
     "execution_count": 26,
     "metadata": {},
     "output_type": "execute_result"
    }
   ],
   "source": [
    "data[data.duplicated()]"
   ]
  },
  {
   "cell_type": "markdown",
   "metadata": {},
   "source": [
    "#### Store the cleaned dataset"
   ]
  },
  {
   "cell_type": "code",
   "execution_count": 27,
   "metadata": {},
   "outputs": [],
   "source": [
    "data.to_csv('data.csv')"
   ]
  },
  {
   "cell_type": "code",
   "execution_count": null,
   "metadata": {},
   "outputs": [],
   "source": []
  }
 ],
 "metadata": {
  "kernelspec": {
   "display_name": "Python 3",
   "language": "python",
   "name": "python3"
  },
  "language_info": {
   "codemirror_mode": {
    "name": "ipython",
    "version": 3
   },
   "file_extension": ".py",
   "mimetype": "text/x-python",
   "name": "python",
   "nbconvert_exporter": "python",
   "pygments_lexer": "ipython3",
   "version": "3.10.2"
  }
 },
 "nbformat": 4,
 "nbformat_minor": 2
}
